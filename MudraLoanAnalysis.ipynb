{
 "cells": [
  {
   "cell_type": "code",
   "execution_count": null,
   "metadata": {},
   "outputs": [],
   "source": [
    "# Import necessary libraries\n",
    "import pandas as pd\n",
    "import matplotlib.pyplot as plt\n",
    "import seaborn as sns"
   ]
  },
  {
   "cell_type": "code",
   "execution_count": null,
   "metadata": {},
   "outputs": [],
   "source": [
    "# Target 1: Convert categorical data to numeric\n",
    "# Step 1: Import necessary libraries\n",
    "\n",
    "# Step 2: Load the dataset using the raw URL\n",
    "url = \"https://raw.githubusercontent.com/RohitSingh218/MudraLoanDataset/main/mudraloandataset.csv\"\n",
    "df = pd.read_csv(url)\n",
    "\n",
    "# Step 3: Convert categorical columns to numeric using one-hot encoding\n",
    "categorical_columns = df.select_dtypes(include=['object']).columns\n",
    "df = pd.get_dummies(df, columns=categorical_columns, drop_first=True)\n",
    "\n",
    "# Display the updated DataFrame to confirm changes\n",
    "df.head()\n",
    "\n"
   ]
  },
  {
   "cell_type": "code",
   "execution_count": null,
   "metadata": {},
   "outputs": [],
   "source": [
    "# Target 2: Find the nulls in the data and treat them\n",
    "# Hint: Fill the null values with Mean, Median, or Mode\n",
    "\n",
    "# Step 1: Check for null values in the dataset\n",
    "print(\"Null values before treatment:\")\n",
    "print(df.isnull().sum())\n",
    "\n",
    "# Step 2: Treat null values\n",
    "for column in df.columns:\n",
    "    if df[column].isnull().sum() > 0:  # Check if there are null values\n",
    "        if df[column].dtype in ['float64', 'int64']:  # For numeric columns\n",
    "            df[column].fillna(df[column].mean(), inplace=True)  # Fill with mean for numeric columns\n",
    "        elif df[column].dtype == 'object':  # For categorical columns\n",
    "            df[column].fillna(df[column].mode()[0], inplace=True)  # Fill with mode for categorical columns\n",
    "\n",
    "\n",
    "# Step 3: Check for null values again to confirm treatment\n",
    "print(\"Null values after treatment:\")\n",
    "print(df.isnull().sum())\n"
   ]
  },
  {
   "cell_type": "code",
   "execution_count": null,
   "metadata": {},
   "outputs": [],
   "source": [
    "# Target 3: Find data duplicacy and remove duplicates from the dataset\n",
    "\n",
    "# Step 1: Check for duplicate rows\n",
    "duplicates = df.duplicated()\n",
    "print(f\"Number of duplicate rows: {duplicates.sum()}\")\n",
    "df = df[~duplicates]  # Remove duplicates\n",
    "df.reset_index(drop=True, inplace=True)  # Reset index after removing duplicates\n",
    "print(f\"Number of rows after removing duplicates: {df.shape[0]}\")\n"
   ]
  },
  {
   "cell_type": "code",
   "execution_count": null,
   "metadata": {},
   "outputs": [],
   "source": [
    "# Target 4: Plot all the numerical data using Box Plot\n",
    "\n",
    "# Step 2: Select numerical columns\n",
    "\n",
    "# ----------------------------- VERSION 1 (Subplots in a Single Figure) -----------------------------\n",
    "# This version creates a single figure with subplots for each numerical column.\n",
    "# Use this if there is a manageable number of numerical columns (e.g., fewer than 10).\n",
    "# Uncomment this section if you want all box plots in one figure.\n",
    "\n",
    "numerical_columns = df.select_dtypes(include=['float64', 'int64']).columns\n",
    "\n",
    "# Step 3: Create box plots for each numerical column\n",
    "plt.figure(figsize=(15, 10))\n",
    "for i, col in enumerate(numerical_columns, 1):\n",
    "    plt.subplot((len(numerical_columns) + 1) // 2, 2, i)  # Arrange subplots dynamically\n",
    "    sns.boxplot(y=df[col])\n",
    "    plt.title(f\"Box Plot of {col}\")\n",
    "plt.tight_layout()\n",
    "plt.show()\n",
    "\n",
    "\n",
    "\n",
    "# code 2: example\n",
    "# ----------------------------- VERSION 2 (Individual Box Plots) -----------------------------\n",
    "# This version creates a separate figure for each numerical column's box plot.\n",
    "# This is helpful when there are many numerical columns, ensuring each plot is visible clearly.\n",
    "\n",
    "# numerical_columns = df.select_dtypes(include=['number']).columns\n",
    "\n",
    "# # Plot Box Plot for each numerical column\n",
    "# for col in numerical_columns:\n",
    "#     plt.figure(figsize=(8, 5))  # Create a new figure for each box plot\n",
    "#     sns.boxplot(y=df[col])\n",
    "#     plt.title(f\"Box Plot of {col}\")\n",
    "#     plt.show()\n",
    "\n"
   ]
  }
 ],
 "metadata": {
  "kernelspec": {
   "display_name": "Python 3",
   "language": "python",
   "name": "python3"
  },
  "language_info": {
   "codemirror_mode": {
    "name": "ipython",
    "version": 3
   },
   "file_extension": ".py",
   "mimetype": "text/x-python",
   "name": "python",
   "nbconvert_exporter": "python",
   "pygments_lexer": "ipython3",
   "version": "3.12.7"
  }
 },
 "nbformat": 4,
 "nbformat_minor": 2
}
